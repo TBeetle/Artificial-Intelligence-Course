{
 "cells": [
  {
   "cell_type": "code",
   "execution_count": 10,
   "id": "eb857809",
   "metadata": {},
   "outputs": [
    {
     "name": "stdout",
     "output_type": "stream",
     "text": [
      "BFS Sorted: [10, 20, 30, 40]\n",
      "DFS Sorted: [10, 20, 30, 40]\n",
      "Requirement already satisfied: pysort in ./opt/anaconda3/lib/python3.9/site-packages (1.0.0)\n",
      "Merge Sorted: [10, 20, 30, 40]\n",
      "DFS Sort Time: 0.002627401999916401\n",
      "BFS Sort Time: 0.002003584999783925\n",
      "Merge Sort Time: 0.006128847999889331\n"
     ]
    }
   ],
   "source": [
    "def is_sorted(arr):\n",
    "    return all(arr[i] <= arr[i+1] for i in range(len(arr)-1))\n",
    "\n",
    "# A depth first search utlizes a stack because it is LIFO\n",
    "def dfs_sort(arr):\n",
    "    # initializing stack\n",
    "    stack = [arr]\n",
    "\n",
    "\n",
    "    while stack:\n",
    "        #The stack pops off at the most recent index\n",
    "        currentState = stack.pop()\n",
    "        if is_sorted(currentState):\n",
    "            return currentState\n",
    "        #The queue runs the sort for the entirity of the queue until finished\n",
    "        for i in range(len(currentState) - 1):\n",
    "            newState = currentState[:]\n",
    "            newState[i], newState[i+1] = newState[i+1], newState[i]\n",
    "            stack.append(newState)\n",
    "\n",
    "    return None\n",
    "\n",
    "# A breadth first search utlizes a stack because it is FIFO\n",
    "def bfs_sort(arr):\n",
    "    #initializing queue\n",
    "    queue = [arr]\n",
    "\n",
    "    while queue:\n",
    "        #The queue pops off at the first index\n",
    "        currentState = queue.pop(0)\n",
    "        if is_sorted(currentState):\n",
    "            return currentState\n",
    "        #The queue runs the sort for the entirity of the queue until finished\n",
    "        for i in range(len(currentState) - 1):\n",
    "            newState = currentState[:]\n",
    "            newState[i], newState[i+1] = newState[i+1], newState[i]\n",
    "            queue.append(newState)\n",
    "\n",
    "    return None\n",
    "\n",
    "\n",
    "# Example usage:\n",
    "unsorted_list = [10, 20, 40, 30]\n",
    "sorted_list_bfs = bfs_sort(unsorted_list)\n",
    "sorted_list_dfs = dfs_sort(unsorted_list)\n",
    "\n",
    "print(\"BFS Sorted:\", sorted_list_bfs)\n",
    "print(\"DFS Sorted:\", sorted_list_dfs)\n",
    "\n",
    "#Part B\n",
    "import sys\n",
    "!{sys.executable} -m pip install pysort\n",
    "from sorting_techniques import pysort\n",
    "sortObj = pysort.Sorting()\n",
    "sortResult = sortObj.mergeSort(unsorted_list)\n",
    "print(\"Merge Sorted:\", sortResult)\n",
    "\n",
    "#Part C\n",
    "import timeit\n",
    "dfsTime = timeit.timeit(lambda: dfs_sort(unsorted_list), number=1000)\n",
    "bfsTime = timeit.timeit(lambda: bfs_sort(unsorted_list), number=1000)\n",
    "mergeTime = timeit.timeit(lambda: pysort.Sorting().mergeSort(unsorted_list), number=1000)\n",
    "print(\"DFS Sort Time:\", dfsTime)\n",
    "print(\"BFS Sort Time:\", bfsTime)\n",
    "print(\"Merge Sort Time:\", mergeTime)\n",
    "\n"
   ]
  },
  {
   "cell_type": "code",
   "execution_count": null,
   "id": "9b296508",
   "metadata": {},
   "outputs": [],
   "source": []
  },
  {
   "cell_type": "code",
   "execution_count": null,
   "id": "f72976fa",
   "metadata": {},
   "outputs": [],
   "source": []
  },
  {
   "cell_type": "code",
   "execution_count": null,
   "id": "737255a8",
   "metadata": {},
   "outputs": [],
   "source": []
  },
  {
   "cell_type": "code",
   "execution_count": null,
   "id": "2df55a17",
   "metadata": {},
   "outputs": [],
   "source": []
  },
  {
   "cell_type": "code",
   "execution_count": null,
   "id": "4375c5fd",
   "metadata": {},
   "outputs": [],
   "source": []
  }
 ],
 "metadata": {
  "kernelspec": {
   "display_name": "Python 3 (ipykernel)",
   "language": "python",
   "name": "python3"
  },
  "language_info": {
   "codemirror_mode": {
    "name": "ipython",
    "version": 3
   },
   "file_extension": ".py",
   "mimetype": "text/x-python",
   "name": "python",
   "nbconvert_exporter": "python",
   "pygments_lexer": "ipython3",
   "version": "3.9.13"
  }
 },
 "nbformat": 4,
 "nbformat_minor": 5
}
